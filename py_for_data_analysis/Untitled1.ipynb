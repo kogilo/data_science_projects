{
 "cells": [
  {
   "cell_type": "code",
   "execution_count": 1,
   "metadata": {},
   "outputs": [
    {
     "data": {
      "text/html": [
       "<div><img alt=\"Output\" src=\"data:image/png;base64,iVBORw0KGgoAAAANSUhEUgAAANIAAAAiCAIAAAClaRAMAAAAqHpUWHRSYXcgcHJvZmlsZSB0eXBlIGV4aWYAAHjaVU7bDQMhDPtnio6QFw6Mg64gdYOOX3N3rVSLOIllR5T5fq3y2FBrJWo2dECI6NFtcGhywflUVIw9bsl+/dT11st1QsRGa7JFvfbV14n7pISnoUIzyGGSic65cSKjFpOaWDgAGhVPkzjYJzIZQ6Ka+NjBDZv5755w7k/+yM3lrMFKsvqOfhWQzZPGDyOtOyJwmgRaAAAACXBIWXMAABYlAAAWJQFJUiTwAAAAPHRFWHRTb2Z0d2FyZQBDcmVhdGVkIHdpdGggdGhlIFdvbGZyYW0gTGFuZ3VhZ2UgOiB3d3cud29sZnJhbS5jb21coqaFAAAAIXRFWHRDcmVhdGlvbiBUaW1lADIwMjA6MDc6MTUgMjA6MDY6Mjf015fZAAAL4ElEQVR4nO2bf0xTVxvHn5ZasIJFhGE1EwqyoUyoKDB/gIuBOePQObc5I5ptbOJclswRB4uoYxE1/li2OGJwU5YFzexQOzbGVpZlERwwCkgBi7RMsgCjFNdCKYVKe98/Hj3e3UJtaaX4rp+/bs95OOd57v3ec85zzoVFURR48DC5sN3tgIf/Ih7ZeXADHtl5cAMe2XlwAx7ZeXAD7pSdyWT6+++/3eiAB3fhBtmZzeajR49GRETweLy5c+cGBASkpKRkZ2f/888/ANDS0iISiUQikUKhmHzfnEGj0aDn5eXlNszy8vLi4uKys7P/01tXlBXXrl0rKioqKirq7e21rnWedevWkd69vb3ZbDYA8Hi8oaEhiqIqKyuxSiaTPYzeHx7d3d3ouVgsHs/m+vXrJPaff/55Mt2bUowx2u3YsSMtLS0tLa2wsNDlKpdIJGVlZQDw4osvdnR0DA8P37lzp6qq6vTp09OnT3d5d1ONadOmkevR0VE3euJmGDKUyWSkaunSpS6XeVpaGgCw2ezxhtL/79GOoqj8/PzU1NQjR45YLJZJ822qwRztxGIxADzzzDMAUFdX197e7lqVt7W1AcDy5cuDgoJc2/Kjwu7du0tKSrKzs1kslrt9cRtM2X377bcAkJ6eLhKJ4J4KXQjmDfHx8Q+0JE+lu7u7pqbGYDA88E+0Wm1jY2N1dXVfX5+TftpJV1dXTU3N0NAQ0Bx2FQ6FYzKZmpqa6uvr0Rn7uXPnjkqlqqysbGlpsTHvO+RMU1MT3ayvr08mk42MjNy3oA99f/zxBwCw2WyNRvPhhx8CgEgksh4h33zzTT6fn5iYaF2Vnp7O5/OTk5PphWfPno2MjAwJCQkKCsIEwtvbm0+DPpuTSbahoeHYsWNCoRB/stlskUhUV1dn3alWqz1+/PiSJUvoD14gEJw/f55hqVKpsMfS0lJGlVKpxKpffvnF5vxwl1OnTs2bNw/78vLySkpKIp7TJ9ny8nL+WPj7+4/Xsv3hIF1dXdu3b+dwOGjJYrEYff3www/EWCKR8Pn81NRUiqKMRmNWVtasWbNIL4GBgTqdbgLO3L59OyAgQCgUVlRUhISEAACHw8nMzBwZGdm8eTP6JhAI5HI52v9LdpmZmQCwYsUKiqJ+//137KOtrY0R59atW8dT5KuvvgoATz/9NL3w8OHDtl+OiIgIYkweXnBwMF7MmDHDy8sLr318fMrKyuiNl5WV0W+cv7//zJkzyc9jx47RjW/evInlEomE4XlraytW/fTTT9Zx0TGbzS+88ALpws/PD98l8mDospNIJONFPWbjDoVDUVRfX9/jjz8OAGw2OykpKTk52dvbm9HRlStXiP358+cBIDY2dmhoKCUlhWEZFhY2MWd6enqw8LHHHiMGXl5ejC7Wrl2L9veDt1gs8+fPB4AjR47gzcXl16FDhxihOio7vV7feY/Q0FAAyMjI6KTR09NDjInsACAxMbGmpmZ0dHRwcPCzzz5D8S1atMhsNhN7hULB4XCEQmFBQUF7ezsWVlRUYEd+fn5qtZoYu0R2+fn5aBkTE9PQ0GCxWPR6/dmzZ/l8PpbTZWc0Gjv/TW5urg3ZORQORVGvvfYaAPj4+Fy9ehVLbty4gc8+NzfXun2UnUAgSE5OBoCoqKiioqKenp6RkZHm5uby8vKJOUNkx+VyS0tLlUolvgwAkJOTo1ar169fDwDTpk3DROp+8FVVVWjX3NxMDyk6OprhuqOyo7NgwQIAyMzMHM+AyG7Pnj2jo6P0qpycHKyizxoURVVXV5tMJkY7ZM+2uLiYFDovO51O5+/vDwChoaEGg4Fe1djYaC07az799FMbsnMoHIqi8Oky7ie+GHPnzrVuHGWHbNy4kRHChJ0hsjt48CCWbN++HQBWr16NOjt37hwa4A7G/ZQCs4cFCxZERUVhCU4lcrmcPJLJZNu2bWRuRXbv3o0X5AEjCQkJ9P0ws9n8559/4sQH93JnV1FXV6fT6QDg448/5vF49CpX5eb2h2MymTo7OwFg0aJF9BbwZ3d39+3bt8frJTo6+uLFi4wQnHEGSUxMxIuwsDAAWLVqFa49yBrdZDIBwN11KEVRmMOGhYVdvXoVC8kqQSwWHzhwwLZ/k4BAIJg1a5ZWq+3o6GBUGQyGkpISqVQqk8mUSiU9adJqtS70obm5GS/WrFnjwmYZ2BkOl8uNjIxUKBT19fVvvPEGKW9oaACAgICA2bNnj9fFuXPnrFeBzjhjG0aaf1d2VVVV+N5IpVKpVMr4mykiOwCYOXOmVqvF8YZQXFz81ltvYeH06dNjY2OFQmFYWFheXh7l6nPPv/76Cy9IGutyHArn+eefVygUBQUFSUlJr7zyCgBUVlbi8vG5556z0Qvmm651xn7uyu7ixYsAwOPxFi5cSK/W6/VtbW0tLS03btxgjOQWi2XCvU6M0dHRrq4uAMAFIvLFF19kZGRQFLV8+fK9e/euXbuWTByFhYVob82EnSeZ3cDAAD2tcxWOhnPo0KEff/yxpaVly5Yt77//PpfL7ejooCgqPDz8888/n2Rn7IcDABaLpbi4GAC2bt365Zdf0qv7+vrmzJljNpvFYvFHH32Ehdh3b2+vdXMP9ZyxtrYW26e/AGfOnKEoKiUlpbS0lL4KGRNy16ydt9Nzoni5XL5q1So7Pbcfh8IBgO+//761tXX27NkLFy68fv06i8VaunTphg0bMjMzH7huc7kz9sMGgGvXruF54qZNmxjVgYGBK1euhH8fV2D2pFarb926RTcuKCi4fPmyqzwbGBhglKDuORzOihUrsMRisWB68eyzzzLuS11dXX9/P6MFgUCAW5fV1dX08t7e3h07dtjjVUxMDF6cPHmSUYWfODiDo+EAwIEDB8xm81dffVVRUaHX6wcGBmpra/fv3++85ibgjP2w4Z6kfH19cS+HwcaNGwFAoVA0NTVhCd56iqJ27dqFuZJKpcrKytq1a5cLZ97U1NQTJ07gUY9Op9u2bRsuOt99913MkgCAzWbjGuvrr79Wq9VYqNFosrKyEhISBgcHGW16eXlhnn7hwoVLly4BgNFoLCsrW7lyZX19vT1eRUZGvvTSSwAgkUjee++94eFhAOjt7f3ggw/S09OdDNnRcAAAv5MVi8UajcbJ3p13xgHMZvOcOXMA4OWXXx5z50alUqFlTk4OlpjN5ieffBILWSwWSZcWL1588OBBcNG+3YwZMwCAw+GEhISQjH3x4sWM05u8vDys4nK50dHRRJEhISE4F+/du5duX1RURGL39fX18fHBW/zJJ5/gKP7A7WKlUkn2SjgcTkBAAF6Hhoaiz87s2zkaDtlUAoDg4ODw8PDw8PCIiIhly5Zt2LDh9OnT/f39dHuyb6fRaGyH6ZAzZN+OHC2iEvbt24c/f/vtNzTo7OykKApqamrw94ULF8br/qmnngKAmJgYUqJUKhMSEkjAQUFBr7/+en9/f0lJCdw7XhuTB8oOd62feOKJW7durV+/nn4s9s477xiNRoa9xWLJzc318/MjzgiFwn379hkMhj179tAjJ/YnT54kewdsNjs+Ph6Pj2JjYwFAKpWO5xuhq6srJSWFvAy+vr5paWlarTYuLg7G2oumY1t2jobT2NhITmPHZNmyZcPDw8T+m2++sV929jtDxloiO5QsOSkhZ614sMGinEiDOzs7W1tbAwMDY2JiHtJnPHq9vra2ls/nR0dH21jVGgyG1tZW/KwcB2/bGI3GmzdvqtXq+Ph4+rGjQwwODsrlch6PFxUV5doVt53hyOXypKQko9F46tSpNWvW4DwAADqdTqVSnTlzBj9mrqiocCb7cfTe2sUDJe9hypKRkQEAb7/99pi1v/76Kz5i+qcAUwTPPyw+wuD+A6Y11mBmzeFw8KPdKYVHdo8wOHUWFhbu3LlTJpMNDg5aLJbu7u7vvvtu3bp1x48fB4C8vDz8dmFq4e7h1sPEMZlMW7ZsoT9N+go7ODg4Pz/f3T6OjVMphYepQHt7e2lpqVQqxV2M+fPnh4aGxsXFbd68mcvlutu7sfHIzoMb8KztPLiB/wFtBFra1o0c6AAAAABJRU5ErkJggg==\"></div>"
      ],
      "text/plain": [
       "Aufbau diagram"
      ]
     },
     "execution_count": 1,
     "metadata": {
      "text/html": [],
      "text/plain": []
     },
     "output_type": "execute_result"
    }
   ],
   "source": [
    "Aufbau diagram"
   ]
  },
  {
   "cell_type": "code",
   "execution_count": null,
   "metadata": {},
   "outputs": [],
   "source": []
  }
 ],
 "metadata": {
  "kernelspec": {
   "display_name": "Wolfram Language 12.1",
   "language": "Wolfram Language",
   "name": "wolframlanguage12.1"
  },
  "language_info": {
   "codemirror_mode": "mathematica",
   "file_extension": ".m",
   "mimetype": "application/vnd.wolfram.m",
   "name": "Wolfram Language",
   "pygments_lexer": "mathematica",
   "version": "12.0"
  }
 },
 "nbformat": 4,
 "nbformat_minor": 4
}
